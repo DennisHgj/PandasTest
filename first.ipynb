{
 "cells": [
  {
   "cell_type": "code",
   "execution_count": null,
   "metadata": {},
   "outputs": [],
   "source": [
    "import pandas as pd"
   ]
  },
  {
   "cell_type": "code",
   "execution_count": 3,
   "metadata": {},
   "outputs": [
    {
     "name": "stdout",
     "output_type": "stream",
     "text": [
      "Example path: ./example_data.xlsx\n"
     ]
    }
   ],
   "source": [
    "print('Example path: ./example_data.xlsx')"
   ]
  },
  {
   "cell_type": "code",
   "execution_count": null,
   "metadata": {},
   "outputs": [],
   "source": [
    "adp = pd.read_excel(input('Please input the path of the ADP spreadsheet:').replace('\\\\','/'), usecols = ['EMPLOYEE TAX ID','PLAN NAME','COVERAGE LEVEL VALUE'])"
   ]
  },
  {
   "cell_type": "code",
   "execution_count": null,
   "metadata": {},
   "outputs": [],
   "source": [
    "cigna = pd.read_excel(input('Please input the path of the Cigna spreadsheet:').replace('\\\\','/'), usecols = ['Subscriber Id','Billing Line Desc','Tier'])"
   ]
  },
  {
   "cell_type": "code",
   "execution_count": null,
   "metadata": {},
   "outputs": [],
   "source": [
    "adp.columns = ['SSN','Plan Name','Coverage Level']\n",
    "cigna.columns = ['SSN','Plan Name','Coverage Level']\n",
    "cigna.dropna(inplace=True)\n",
    "df1_1 = adp.append(cigna)\n",
    "df1_2 = df1_1.append(cigna)\n",
    "df1_3 = df1_2.drop_duplicates(keep=False)\n",
    "df2_1 = cigna.append(adp)\n",
    "df2_2 = df2_1.append(adp)\n",
    "df2_3 = df2_2.drop_duplicates(keep=False)"
   ]
  },
  {
   "cell_type": "code",
   "execution_count": null,
   "metadata": {},
   "outputs": [],
   "source": [
    "print(df1_3)\n",
    "print('\\n','=====================','\\n')\n",
    "print(df2_3)\n",
    "while not (input('Please input \"Done\" to exit: ') == 'Done'):\n",
    "    pass"
   ]
  }
 ],
 "metadata": {
  "kernelspec": {
   "display_name": "Python 3",
   "language": "python",
   "name": "python3"
  },
  "language_info": {
   "codemirror_mode": {
    "name": "ipython",
    "version": 3
   },
   "file_extension": ".py",
   "mimetype": "text/x-python",
   "name": "python",
   "nbconvert_exporter": "python",
   "pygments_lexer": "ipython3",
   "version": "3.7.5"
  }
 },
 "nbformat": 4,
 "nbformat_minor": 4
}
